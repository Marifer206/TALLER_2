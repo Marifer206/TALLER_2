{
 "cells": [
  {
   "attachments": {},
   "cell_type": "markdown",
   "metadata": {},
   "source": [
    "PUNTO # 1"
   ]
  },
  {
   "cell_type": "code",
   "execution_count": 42,
   "metadata": {},
   "outputs": [
    {
     "name": "stdout",
     "output_type": "stream",
     "text": [
      "[1, 2, 3, 4, 5, 6, 7, 8, 9]\n"
     ]
    }
   ],
   "source": [
    "numeros = []  # Se define una lista vacía llamada \"numeros\"\n",
    "def separar_numero(x):  # Se define una función llamada \"separar_numero\" que toma un número entero \"x\" como argumento\n",
    "    while x > 0:  # Se utiliza un bucle \"while\" para iterar mientras \"x\" sea mayor que cero\n",
    "        numeros.append(x%10)  # Se utiliza el operador módulo \"%\" para obtener el último dígito de \"x\" y se agrega a la lista \"numeros\" utilizando el método \"append()\"\n",
    "        x = x // 10  # Se utiliza el operador de división entera \"//\" para eliminar el último dígito de \"x\"\n",
    "    numeros.reverse()  # Se invierte el orden de los elementos en la lista \"numeros\" utilizando el método \"reverse()\"\n",
    "    print(numeros)  # Se imprime la lista \"numeros\" que contiene los dígitos individuales del número entero original\n",
    "\n",
    "n = int(input(\"Ingrese el numero entero el cual quiera separar: \"))  # Se pide al usuario que ingrese un número entero y se almacena en la variable \"n\"\n",
    "separar_numero(n)  # Se llama a la función \"separar_numero\" con el número ingresado como argumento"
   ]
  },
  {
   "attachments": {},
   "cell_type": "markdown",
   "metadata": {},
   "source": [
    "PUNTO # 2"
   ]
  },
  {
   "cell_type": "code",
   "execution_count": 33,
   "metadata": {},
   "outputs": [
    {
     "name": "stdout",
     "output_type": "stream",
     "text": [
      "La parte entera del número 6654.43546 es 6654 y su parte decimal es 0.43545999999969354\n"
     ]
    }
   ],
   "source": [
    "import math  # Se importa el módulo \"math\" que contiene funciones matemáticas\n",
    "\n",
    "n = float(input(\"Ingrese el número del cual quiera saber su parte entera y su parte decimal: \"))  # Se pide al usuario que ingrese un número y se almacena en la variable \"n\" como un número de punto flotante\n",
    "\n",
    "entero = math.trunc(n)  # Se utiliza la función \"trunc()\" del módulo \"math\" para obtener la parte entera del número \"n\" y se almacena en la variable \"entero\"\n",
    "decimal = n - entero  # Se resta la parte entera del número \"n\" a \"n\" para obtener la parte decimal y se almacena en la variable \"decimal\"\n",
    "\n",
    "print(\"La parte entera del número \" + str(n) + \" es \" + str(entero) + \" y su parte decimal es \" + str(decimal))  # Se imprime en la pantalla la parte entera y la parte decimal del número \"n\""
   ]
  },
  {
   "attachments": {},
   "cell_type": "markdown",
   "metadata": {},
   "source": [
    "PUNTO # 3"
   ]
  },
  {
   "cell_type": "code",
   "execution_count": 36,
   "metadata": {},
   "outputs": [
    {
     "name": "stdout",
     "output_type": "stream",
     "text": [
      "Los números 123 y 321 son espejos.\n"
     ]
    }
   ],
   "source": [
    "def invertir_numero(numero):  # Se define una función llamada \"invertir_numero\" que toma un número entero \"numero\" como argumento\n",
    "    numero_invertido = 0  # Se inicializa la variable \"numero_invertido\" en cero\n",
    "    while numero > 0:  # Se utiliza un bucle \"while\" para iterar mientras \"numero\" sea mayor que cero\n",
    "        digito = numero % 10  # Se utiliza el operador módulo \"%\" para obtener el último dígito de \"numero\" y se almacena en la variable \"digito\"\n",
    "        numero_invertido = (numero_invertido * 10) + digito  # Se multiplica \"numero_invertido\" por 10 y se le suma \"digito\" para invertir el orden de los dígitos de \"numero\" y se almacena en la variable \"numero_invertido\"\n",
    "        numero //= 10  # Se utiliza el operador de división entera \"//\" para eliminar el último dígito de \"numero\"\n",
    "    return numero_invertido  # Se devuelve el número invertido\n",
    "\n",
    "n = int(input(\"Ingrese el primer número: \"))  # Se pide al usuario que ingrese el primer número y se almacena en la variable \"n\" como un número entero\n",
    "m = int(input(\"Ingrese el segundo número: \"))  # Se pide al usuario que ingrese el segundo número y se almacena en la variable \"m\" como un número entero\n",
    "\n",
    "n_invertido = invertir_numero(n)  # Se llama a la función \"invertir_numero\" con el número \"n\" como argumento y se almacena el resultado en la variable \"n_invertido\"\n",
    "\n",
    "if n_invertido == m:  # Se utiliza una condición \"if\" para verificar si el número invertido \"n_invertido\" es igual al número \"m\"\n",
    "    print(\"Los números\", n, \"y\", m, \"son espejos.\")  # Si los números son espejos, se imprime en la pantalla un mensaje indicando que los números son espejos\n",
    "else:\n",
    "    print(\"Los números\", n, \"y\", m, \"no son espejos.\")  # Si los números no son espejos, se imprime en la pantalla un mensaje indicando que los números no son espejos\n",
    "\n"
   ]
  },
  {
   "attachments": {},
   "cell_type": "markdown",
   "metadata": {},
   "source": [
    "PUNTO # 4"
   ]
  },
  {
   "cell_type": "code",
   "execution_count": 50,
   "metadata": {},
   "outputs": [
    {
     "name": "stdout",
     "output_type": "stream",
     "text": [
      "Aproximación: 0.28366421413266923\n",
      "Valor real: 0.28366218546322625\n",
      "Con un error del 0.001% se necesitan 11 términos de la serie\n",
      "\n",
      "Aproximación: 0.283625015089173\n",
      "Valor real: 0.28366218546322625\n",
      "Con un error del 0.1% se necesitan 10 términos de la serie\n",
      "\n",
      "Aproximación: 0.28422084055031593\n",
      "Valor real: 0.28366218546322625\n",
      "Con un error del 1% se necesitan 9 términos de la serie\n",
      "\n",
      "Aproximación: 0.276927936905926\n",
      "Valor real: 0.28366218546322625\n",
      "Con un error del 10% se necesitan 8 términos de la serie\n",
      "\n"
     ]
    }
   ],
   "source": [
    "import math  # Se importa el módulo \"math\" que contiene funciones matemáticas\n",
    "\n",
    "def aproximacion_coseno(x, n):  # Se define una función llamada \"aproximacion_coseno\" que toma dos argumentos: \"x\" y \"n\"\n",
    "    aproximacion = 0  # Se inicializa la variable \"aproximacion\" en cero\n",
    "    for i in range(n):  # Se utiliza un bucle \"for\" para iterar \"n\" veces\n",
    "        termino = ((-1) ** i) * (x ** (2 * i)) / math.factorial(2 * i)  # Se calcula el \"i\"-ésimo término de la serie de Taylor para el coseno y se almacena en la variable \"termino\"\n",
    "        aproximacion += termino  # Se suma el \"i\"-ésimo término a la variable \"aproximacion\"\n",
    "    return aproximacion  # Se devuelve la aproximación del coseno de \"x\" utilizando \"n\" términos de la serie de Taylor\n",
    "\n",
    "x = float(input(\"Ingrese el valor de x: \"))  # Se pide al usuario que ingrese el valor de \"x\" y se almacena en la variable \"x\" como un número de punto flotante\n",
    "\n",
    "errores_deseados = [0.001, 0.1, 1, 10]  # Se define una lista de errores deseados\n",
    "\n",
    "for error in errores_deseados:  # Se utiliza un bucle \"for\" para iterar sobre los errores deseados\n",
    "    e = 0  # Se inicializa la variable \"e\" en cero\n",
    "    while True:  # Se utiliza un bucle \"while\" infinito\n",
    "        e += 1  # Se incrementa la variable \"e\" en uno en cada iteración\n",
    "        aproximacion = aproximacion_coseno(x, e)  # Se llama a la función \"aproximacion_coseno\" con \"x\" y \"e\" como argumentos y se almacena el resultado en la variable \"aproximacion\"\n",
    "        error_porcentual = abs((aproximacion - math.cos(x)) / math.cos(x)) * 100  # Se calcula el error porcentual entre la aproximación y el valor real del coseno de \"x\" y se almacena en la variable \"error_porcentual\"\n",
    "        if error_porcentual <= error:  # Se utiliza una condición \"if\" para verificar si el error porcentual es menor o igual al error deseado\n",
    "            break  # Si el error porcentual es menor o igual al error deseado, se sale del bucle \"while\"\n",
    "    print(\"Aproximación: \" + str(aproximacion))  # Se imprime en la pantalla la aproximación del coseno de \"x\" utilizando \"e\" términos de la serie de Taylor\n",
    "    print(\"Valor real: \" + str(math.cos(x)))  # Se imprime en la pantalla el valor real del coseno de \"x\"\n",
    "    print(\"Con un error del \" + str(error) + \"% se necesitan \" + str(e) + \" términos de la serie\")  # Se imprime en la pantalla el error deseado, el número de términos de la serie necesarios para alcanzar el error deseado y un mensaje indicando que se ha alcanzado el error deseado\n",
    "    print(\"\")  # Se imprime una línea en blanco para separar las salidas de cada iteración del bucle \"for\""
   ]
  },
  {
   "attachments": {},
   "cell_type": "markdown",
   "metadata": {},
   "source": [
    "PUNTO # 5"
   ]
  },
  {
   "cell_type": "code",
   "execution_count": 58,
   "metadata": {},
   "outputs": [
    {
     "name": "stdout",
     "output_type": "stream",
     "text": [
      "El Mínimo Común Múltiplo de 55 y 25 es: 275\n",
      "El Mínimo Común Múltiplo de 55 y 25 es: 275\n"
     ]
    }
   ],
   "source": [
    "def mcd(a, b):\n",
    "    while b:\n",
    "        a, b = b, a % b\n",
    "    return a\n",
    "\n",
    "# Función para calcular el Mínimo Común Múltiplo de dos números\n",
    "def mcm(a, b):\n",
    "    return a * b // mcd(a, b)\n",
    "\n",
    "# Versión iterativa\n",
    "def mcm_iterativo(a, b):\n",
    "    return mcm(a, b)\n",
    "\n",
    "# Versión recursiva\n",
    "def mcm_recursivo(a, b):\n",
    "    if b == 0:\n",
    "        return a\n",
    "    else:\n",
    "        return mcm_recursivo(b, a % b) * a // mcd(a, b)\n",
    "\n",
    "# Imprimimos los resultados\n",
    "if __name__ == \"__main__\":\n",
    "    a = int(input(\"Ingrese el primer número: \"))\n",
    "    b = int(input(\"Ingrese el segundo número: \"))\n",
    "    print(\"El Mínimo Común Múltiplo de\", a, \"y\", b, \"es:\", mcm_iterativo(a, b))\n",
    "    print(\"El Mínimo Común Múltiplo de\", a, \"y\", b, \"es:\", mcm_recursivo(a, b))"
   ]
  },
  {
   "attachments": {},
   "cell_type": "markdown",
   "metadata": {},
   "source": [
    "PUNTO# 6"
   ]
  },
  {
   "cell_type": "code",
   "execution_count": 2,
   "metadata": {},
   "outputs": [
    {
     "name": "stdout",
     "output_type": "stream",
     "text": [
      "La cadena 'profe es un dios' tiene 6 vocales.\n"
     ]
    }
   ],
   "source": [
    "# Definimos una lista vacía para almacenar las cadenas de caracteres\n",
    "lista=[]\n",
    "\n",
    "# Pedimos al usuario que ingrese las cadenas de caracteres hasta que ingrese 'fin'\n",
    "while True:\n",
    "    cadena = input(\"Ingrese una cadena de caracteres (o escriba 'fin' para terminar): \")\n",
    "    # Si el usuario ingresa 'fin', salimos del bucle\n",
    "    if cadena == 'fin':\n",
    "        break\n",
    "    # Agregamos la cadena a la lista\n",
    "    lista.append(cadena)\n",
    "\n",
    "# Definimos una función para contar las vocales en una cadena\n",
    "def contar_vocales(cadena):\n",
    "    # Definimos una lista con las vocales (mayúsculas y minúsculas)\n",
    "    vocales = ['a', 'e', 'i', 'o', 'u', 'A', 'E', 'I', 'O', 'U']\n",
    "    # Inicializamos el contador de vocales en 0\n",
    "    contador = 0\n",
    "    # Recorremos la cadena de caracteres\n",
    "    for letra in cadena:\n",
    "        # Si la letra es una vocal, aumentamos el contador\n",
    "        if letra in vocales:\n",
    "            contador += 1\n",
    "    # Devolvemos el contador de vocales\n",
    "    return contador\n",
    "\n",
    "# Definimos una variable para indicar si encontramos una cadena con dos o más vocales\n",
    "encontrado = False\n",
    "\n",
    "# Recorremos la lista de cadenas de caracteres\n",
    "for cadena in lista:\n",
    "    # Contamos las vocales en la cadena\n",
    "    num_vocales = contar_vocales(cadena)\n",
    "    # Si la cadena tiene dos o más vocales, la imprimimos y cambiamos el valor de la variable encontrado\n",
    "    if num_vocales >= 2:\n",
    "        print(f\"La cadena '{cadena}' tiene {num_vocales} vocales.\")\n",
    "        encontrado = True\n",
    "\n",
    "# Si no encontramos ninguna cadena con dos o más vocales, imprimimos 'No existe'\n",
    "if not encontrado:\n",
    "    print('No existe')"
   ]
  },
  {
   "attachments": {},
   "cell_type": "markdown",
   "metadata": {},
   "source": [
    "PUNTO #7"
   ]
  },
  {
   "cell_type": "code",
   "execution_count": 63,
   "metadata": {},
   "outputs": [
    {
     "name": "stdout",
     "output_type": "stream",
     "text": [
      "[1, 2, 3, 5, 5, 4, 4]\n",
      "Existen elementos repetidos en la lista\n"
     ]
    }
   ],
   "source": [
    "# Definimos una lista vacía para almacenar los elementos\n",
    "lista = []\n",
    "\n",
    "# Pedimos al usuario que ingrese los elementos de lista\n",
    "while True:\n",
    "    elemento = input(\"Ingrese un elemento (o presione Enter para terminar): \")\n",
    "    if elemento == '':\n",
    "        break\n",
    "    lista.append(int(elemento))\n",
    "\n",
    "# Buscamos elementos repetidos en la lista\n",
    "repetidos = False\n",
    "for i in range(len(lista)):\n",
    "    for j in range(i+1, len(lista)):\n",
    "        if lista[i] == lista[j]:\n",
    "            repetidos = True\n",
    "            break\n",
    "    if repetidos:\n",
    "        break\n",
    "# Imprimimos la lista\n",
    "print(lista)\n",
    "# Imprimimos el resultado\n",
    "if repetidos:\n",
    "    print('Existen elementos repetidos en la lista')\n",
    "else:\n",
    "    print('No existen elementos repetidos en la lista')"
   ]
  },
  {
   "attachments": {},
   "cell_type": "markdown",
   "metadata": {},
   "source": [
    "PUNTO #8"
   ]
  },
  {
   "cell_type": "code",
   "execution_count": 5,
   "metadata": {},
   "outputs": [
    {
     "name": "stdout",
     "output_type": "stream",
     "text": [
      "Los elementos que están en la primera lista pero no en la segunda lista son: [2]\n"
     ]
    }
   ],
   "source": [
    "# Pedimos al usuario que ingrese los elementos de la primera lista\n",
    "lista1 = []\n",
    "while True:\n",
    "    elemento = input(\"Ingrese un elemento para la primera lista (o presione Enter para terminar): \")\n",
    "    if elemento == '':\n",
    "        break\n",
    "    lista1.append(int(elemento))\n",
    "\n",
    "# Pedimos al usuario que ingrese los elementos de la segunda lista\n",
    "lista2 = []\n",
    "while True:\n",
    "    elemento = input(\"Ingrese un elemento para la segunda lista (o presione Enter para terminar): \")\n",
    "    if elemento == '':\n",
    "        break\n",
    "    lista2.append(int(elemento))\n",
    "\n",
    "# Creamos una lista vacía para almacenar los elementos que están en la primera lista pero no en la segunda lista\n",
    "diferencia = []\n",
    "\n",
    "# Recorremos la primera lista y verificamos si cada elemento está en la segunda lista\n",
    "for elemento in lista1:\n",
    "    esta_en_lista2 = False\n",
    "    for elemento2 in lista2:\n",
    "        if elemento == elemento2:\n",
    "            esta_en_lista2 = True\n",
    "            break\n",
    "    if not esta_en_lista2:\n",
    "        diferencia.append(elemento)\n",
    "\n",
    "# Imprimimos los elementos que están en la primera lista pero no en la segunda lista\n",
    "print(\"Los elementos que están en la primera lista pero no en la segunda lista son:\", diferencia)"
   ]
  },
  {
   "attachments": {},
   "cell_type": "markdown",
   "metadata": {},
   "source": [
    "PUNTO # 9"
   ]
  },
  {
   "cell_type": "code",
   "execution_count": 6,
   "metadata": {},
   "outputs": [
    {
     "name": "stdout",
     "output_type": "stream",
     "text": [
      "El promedio aritmético es: 4.0\n",
      "La mediana es: 4.0\n",
      "El promedio multiplicativo es: 3.169786384922227\n",
      "Los números en orden ascendente son: [1.0, 2.0, 4.0, 5.0, 8.0]\n",
      "Los números en orden descendente son: [8.0, 5.0, 4.0, 2.0, 1.0]\n",
      "El mayor número elevado al menor número es: 8.0\n",
      "La raíz cúbica del menor número es: 1.0\n"
     ]
    }
   ],
   "source": [
    "# Pedir 5 números reales al usuario\n",
    "numeros = []\n",
    "for i in range(5):\n",
    "    num = float(input(f\"Ingrese el número {i+1}: \"))\n",
    "    numeros.append(num)\n",
    "\n",
    "# Calcular el promedio aritmético\n",
    "promedio_aritmetico = sum(numeros) / len(numeros)\n",
    "\n",
    "# Calcular la mediana\n",
    "numeros_ordenados = sorted(numeros)\n",
    "mediana = 0\n",
    "if len(numeros_ordenados) % 2 == 0:\n",
    "    # Si el número de elementos es par, se promedian los dos del centro\n",
    "    indice_medio = len(numeros_ordenados) // 2\n",
    "    mediana = (numeros_ordenados[indice_medio-1] + numeros_ordenados[indice_medio]) / 2\n",
    "else:\n",
    "    # Si el número de elementos es impar, se toma el del centro\n",
    "    indice_medio = len(numeros_ordenados) // 2\n",
    "    mediana = numeros_ordenados[indice_medio]\n",
    "\n",
    "# Calcular el promedio multiplicativo\n",
    "from functools import reduce\n",
    "promedio_multiplicativo = reduce(lambda x, y: x * y, numeros) ** (1/len(numeros))\n",
    "\n",
    "# Ordenar los números de forma ascendente y descendente\n",
    "numeros_ascendente = sorted(numeros)\n",
    "numeros_descendente = sorted(numeros, reverse=True)\n",
    "\n",
    "# Calcular la potencia del mayor número elevado al menor número\n",
    "mayor = max(numeros)\n",
    "menor = min(numeros)\n",
    "potencia = mayor ** menor\n",
    "\n",
    "# Calcular la raíz cúbica del menor número\n",
    "raiz_cubica = menor ** (1/3)\n",
    "\n",
    "# Mostrar los resultados\n",
    "print(f\"El promedio aritmético es: {promedio_aritmetico}\")\n",
    "print(f\"La mediana es: {mediana}\")\n",
    "print(f\"El promedio multiplicativo es: {promedio_multiplicativo}\")\n",
    "print(f\"Los números en orden ascendente son: {numeros_ascendente}\")\n",
    "print(f\"Los números en orden descendente son: {numeros_descendente}\")\n",
    "print(f\"El mayor número elevado al menor número es: {potencia}\")\n",
    "print(f\"La raíz cúbica del menor número es: {raiz_cubica}\")"
   ]
  },
  {
   "attachments": {},
   "cell_type": "markdown",
   "metadata": {},
   "source": [
    "PUNTO # 10"
   ]
  },
  {
   "cell_type": "code",
   "execution_count": 3,
   "metadata": {},
   "outputs": [
    {
     "name": "stdout",
     "output_type": "stream",
     "text": [
      "La matriz no es mágica\n"
     ]
    }
   ],
   "source": [
    "# Pedimos al usuario que ingrese los datos de la matriz\n",
    "n = int(input(\"Ingrese el tamaño de la matriz: \"))\n",
    "matriz = []\n",
    "for i in range(n):\n",
    "    fila = []\n",
    "    for j in range(n):\n",
    "        elemento = int(input(f\"Ingrese el elemento ({i+1},{j+1}): \"))\n",
    "        fila.append(elemento)\n",
    "    matriz.append(fila)\n",
    "\n",
    "# Calculamos la mágica\n",
    "suma_magica = 0\n",
    "for i in range(n):\n",
    "    suma_magica += matriz[0][i]\n",
    "\n",
    "# Verificamos si la suma de cada fila, columna y diagonal es igual a la suma mágica\n",
    "es_magica = True\n",
    "for i in range(n):\n",
    "    # Verificamos la suma de la fila i\n",
    "    suma_fila = 0\n",
    "    for j in range(n):\n",
    "        suma_fila += matriz[i][j]\n",
    "    if suma_fila != suma_magica:\n",
    "        es_magica = False\n",
    "        break\n",
    "    # Verificamos la suma de la columna i\n",
    "    suma_columna = 0\n",
    "    for j in range(n):\n",
    "        suma_columna += matriz[j][i]\n",
    "    if suma_columna != suma_magica:\n",
    "        es_magica = False\n",
    "        break\n",
    "    # Verificamos la suma de la diagonal principal\n",
    "    suma_diagonal_principal = 0\n",
    "    for j in range(n):\n",
    "        if i == j:\n",
    "            suma_diagonal_principal += matriz[i][j]\n",
    "    if suma_diagonal_principal != suma_magica:\n",
    "        es_magica = False\n",
    "        break\n",
    "    # Verificamos la suma de la diagonal secundaria\n",
    "    suma_diagonal_secundaria = 0\n",
    "    for j in range(n):\n",
    "        if i + j == n - 1:\n",
    "            suma_diagonal_secundaria += matriz[i][j]\n",
    "    if suma_diagonal_secundaria != suma_magica:\n",
    "        es_magica = False\n",
    "        break\n",
    "\n",
    "# Imprimimos el resultado\n",
    "if es_magica:\n",
    "    print(\"La matriz es mágica\")\n",
    "else:\n",
    "    print(\"La matriz no es mágica\")"
   ]
  }
 ],
 "metadata": {
  "kernelspec": {
   "display_name": "Python 3",
   "language": "python",
   "name": "python3"
  },
  "language_info": {
   "codemirror_mode": {
    "name": "ipython",
    "version": 3
   },
   "file_extension": ".py",
   "mimetype": "text/x-python",
   "name": "python",
   "nbconvert_exporter": "python",
   "pygments_lexer": "ipython3",
   "version": "3.10.11"
  },
  "orig_nbformat": 4
 },
 "nbformat": 4,
 "nbformat_minor": 2
}
